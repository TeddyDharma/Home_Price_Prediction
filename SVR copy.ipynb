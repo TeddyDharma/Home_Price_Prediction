{
 "cells": [
  {
   "cell_type": "code",
   "execution_count": 229,
   "metadata": {},
   "outputs": [],
   "source": [
    "import pandas as pd \n",
    "import numpy as np\n",
    "from sklearn.utils import shuffle\n",
    "from sklearn.metrics import mean_squared_error as mse\n",
    "from sklearn.metrics import mean_absolute_error as mae\n",
    "from sklearn.metrics import median_absolute_error \n",
    "from sklearn.metrics import r2_score\n",
    "# from sklearn.datasets import load_diabetes\n"
   ]
  },
  {
   "cell_type": "code",
   "execution_count": 235,
   "metadata": {},
   "outputs": [
    {
     "data": {
      "text/plain": [
       "{'data':           age       sex       bmi        bp        s1        s2        s3  \\\n",
       " 0    0.038076  0.050680  0.061696  0.021872 -0.044223 -0.034821 -0.043401   \n",
       " 1   -0.001882 -0.044642 -0.051474 -0.026328 -0.008449 -0.019163  0.074412   \n",
       " 2    0.085299  0.050680  0.044451 -0.005670 -0.045599 -0.034194 -0.032356   \n",
       " 3   -0.089063 -0.044642 -0.011595 -0.036656  0.012191  0.024991 -0.036038   \n",
       " 4    0.005383 -0.044642 -0.036385  0.021872  0.003935  0.015596  0.008142   \n",
       " ..        ...       ...       ...       ...       ...       ...       ...   \n",
       " 437  0.041708  0.050680  0.019662  0.059744 -0.005697 -0.002566 -0.028674   \n",
       " 438 -0.005515  0.050680 -0.015906 -0.067642  0.049341  0.079165 -0.028674   \n",
       " 439  0.041708  0.050680 -0.015906  0.017293 -0.037344 -0.013840 -0.024993   \n",
       " 440 -0.045472 -0.044642  0.039062  0.001215  0.016318  0.015283 -0.028674   \n",
       " 441 -0.045472 -0.044642 -0.073030 -0.081413  0.083740  0.027809  0.173816   \n",
       " \n",
       "            s4        s5        s6  \n",
       " 0   -0.002592  0.019907 -0.017646  \n",
       " 1   -0.039493 -0.068332 -0.092204  \n",
       " 2   -0.002592  0.002861 -0.025930  \n",
       " 3    0.034309  0.022688 -0.009362  \n",
       " 4   -0.002592 -0.031988 -0.046641  \n",
       " ..        ...       ...       ...  \n",
       " 437 -0.002592  0.031193  0.007207  \n",
       " 438  0.034309 -0.018114  0.044485  \n",
       " 439 -0.011080 -0.046883  0.015491  \n",
       " 440  0.026560  0.044529 -0.025930  \n",
       " 441 -0.039493 -0.004222  0.003064  \n",
       " \n",
       " [442 rows x 10 columns],\n",
       " 'target': 0      151.0\n",
       " 1       75.0\n",
       " 2      141.0\n",
       " 3      206.0\n",
       " 4      135.0\n",
       "        ...  \n",
       " 437    178.0\n",
       " 438    104.0\n",
       " 439    132.0\n",
       " 440    220.0\n",
       " 441     57.0\n",
       " Name: target, Length: 442, dtype: float64,\n",
       " 'frame':           age       sex       bmi        bp        s1        s2        s3  \\\n",
       " 0    0.038076  0.050680  0.061696  0.021872 -0.044223 -0.034821 -0.043401   \n",
       " 1   -0.001882 -0.044642 -0.051474 -0.026328 -0.008449 -0.019163  0.074412   \n",
       " 2    0.085299  0.050680  0.044451 -0.005670 -0.045599 -0.034194 -0.032356   \n",
       " 3   -0.089063 -0.044642 -0.011595 -0.036656  0.012191  0.024991 -0.036038   \n",
       " 4    0.005383 -0.044642 -0.036385  0.021872  0.003935  0.015596  0.008142   \n",
       " ..        ...       ...       ...       ...       ...       ...       ...   \n",
       " 437  0.041708  0.050680  0.019662  0.059744 -0.005697 -0.002566 -0.028674   \n",
       " 438 -0.005515  0.050680 -0.015906 -0.067642  0.049341  0.079165 -0.028674   \n",
       " 439  0.041708  0.050680 -0.015906  0.017293 -0.037344 -0.013840 -0.024993   \n",
       " 440 -0.045472 -0.044642  0.039062  0.001215  0.016318  0.015283 -0.028674   \n",
       " 441 -0.045472 -0.044642 -0.073030 -0.081413  0.083740  0.027809  0.173816   \n",
       " \n",
       "            s4        s5        s6  target  \n",
       " 0   -0.002592  0.019907 -0.017646   151.0  \n",
       " 1   -0.039493 -0.068332 -0.092204    75.0  \n",
       " 2   -0.002592  0.002861 -0.025930   141.0  \n",
       " 3    0.034309  0.022688 -0.009362   206.0  \n",
       " 4   -0.002592 -0.031988 -0.046641   135.0  \n",
       " ..        ...       ...       ...     ...  \n",
       " 437 -0.002592  0.031193  0.007207   178.0  \n",
       " 438  0.034309 -0.018114  0.044485   104.0  \n",
       " 439 -0.011080 -0.046883  0.015491   132.0  \n",
       " 440  0.026560  0.044529 -0.025930   220.0  \n",
       " 441 -0.039493 -0.004222  0.003064    57.0  \n",
       " \n",
       " [442 rows x 11 columns],\n",
       " 'DESCR': '.. _diabetes_dataset:\\n\\nDiabetes dataset\\n----------------\\n\\nTen baseline variables, age, sex, body mass index, average blood\\npressure, and six blood serum measurements were obtained for each of n =\\n442 diabetes patients, as well as the response of interest, a\\nquantitative measure of disease progression one year after baseline.\\n\\n**Data Set Characteristics:**\\n\\n  :Number of Instances: 442\\n\\n  :Number of Attributes: First 10 columns are numeric predictive values\\n\\n  :Target: Column 11 is a quantitative measure of disease progression one year after baseline\\n\\n  :Attribute Information:\\n      - age     age in years\\n      - sex\\n      - bmi     body mass index\\n      - bp      average blood pressure\\n      - s1      tc, total serum cholesterol\\n      - s2      ldl, low-density lipoproteins\\n      - s3      hdl, high-density lipoproteins\\n      - s4      tch, total cholesterol / HDL\\n      - s5      ltg, possibly log of serum triglycerides level\\n      - s6      glu, blood sugar level\\n\\nNote: Each of these 10 feature variables have been mean centered and scaled by the standard deviation times the square root of `n_samples` (i.e. the sum of squares of each column totals 1).\\n\\nSource URL:\\nhttps://www4.stat.ncsu.edu/~boos/var.select/diabetes.html\\n\\nFor more information see:\\nBradley Efron, Trevor Hastie, Iain Johnstone and Robert Tibshirani (2004) \"Least Angle Regression,\" Annals of Statistics (with discussion), 407-499.\\n(https://web.stanford.edu/~hastie/Papers/LARS/LeastAngle_2002.pdf)\\n',\n",
       " 'feature_names': ['age',\n",
       "  'sex',\n",
       "  'bmi',\n",
       "  'bp',\n",
       "  's1',\n",
       "  's2',\n",
       "  's3',\n",
       "  's4',\n",
       "  's5',\n",
       "  's6'],\n",
       " 'data_filename': 'diabetes_data_raw.csv.gz',\n",
       " 'target_filename': 'diabetes_target.csv.gz',\n",
       " 'data_module': 'sklearn.datasets.data'}"
      ]
     },
     "execution_count": 235,
     "metadata": {},
     "output_type": "execute_result"
    }
   ],
   "source": [
    "# diabetes = load_diabetes(as_frame=True)\n",
    "# diabetes"
   ]
  },
  {
   "cell_type": "code",
   "execution_count": 206,
   "metadata": {},
   "outputs": [
    {
     "data": {
      "text/html": [
       "<div>\n",
       "<style scoped>\n",
       "    .dataframe tbody tr th:only-of-type {\n",
       "        vertical-align: middle;\n",
       "    }\n",
       "\n",
       "    .dataframe tbody tr th {\n",
       "        vertical-align: top;\n",
       "    }\n",
       "\n",
       "    .dataframe thead th {\n",
       "        text-align: right;\n",
       "    }\n",
       "</style>\n",
       "<table border=\"1\" class=\"dataframe\">\n",
       "  <thead>\n",
       "    <tr style=\"text-align: right;\">\n",
       "      <th></th>\n",
       "      <th>Unnamed: 0</th>\n",
       "      <th>judul</th>\n",
       "      <th>alamat</th>\n",
       "      <th>deskripsi</th>\n",
       "      <th>kamar</th>\n",
       "      <th>bangunan</th>\n",
       "      <th>lahan</th>\n",
       "      <th>harga</th>\n",
       "    </tr>\n",
       "  </thead>\n",
       "  <tbody>\n",
       "    <tr>\n",
       "      <th>0</th>\n",
       "      <td>0</td>\n",
       "      <td>Promo Rumah Mewah Akhir Tahun</td>\n",
       "      <td>Antapani, Bandung</td>\n",
       "      <td>Promo akhir tahun !! Hanya 500 jt-an + FREE SH...</td>\n",
       "      <td>3</td>\n",
       "      <td>75</td>\n",
       "      <td>84</td>\n",
       "      <td>590000000</td>\n",
       "    </tr>\n",
       "    <tr>\n",
       "      <th>1</th>\n",
       "      <td>1</td>\n",
       "      <td>Rumah modern Readystock di bandung raya cimahi...</td>\n",
       "      <td>Bandung Wetan, Bandung</td>\n",
       "      <td>Rumah Baru modern 2 LT di Sayap Kota Cimahi de...</td>\n",
       "      <td>3</td>\n",
       "      <td>70</td>\n",
       "      <td>71</td>\n",
       "      <td>700000000</td>\n",
       "    </tr>\n",
       "    <tr>\n",
       "      <th>2</th>\n",
       "      <td>2</td>\n",
       "      <td>Dijual rumah 300 jutaan jalan lebar dekat Ikea...</td>\n",
       "      <td>Padalarang, Bandung</td>\n",
       "      <td>*Jadilah konsumen CERDAS !* *Tips singkat sebe...</td>\n",
       "      <td>2</td>\n",
       "      <td>36</td>\n",
       "      <td>72</td>\n",
       "      <td>386000000</td>\n",
       "    </tr>\n",
       "    <tr>\n",
       "      <th>3</th>\n",
       "      <td>3</td>\n",
       "      <td>Dijual PROMO rumah 2 lantai di sayap Setiabudi...</td>\n",
       "      <td>Bandung</td>\n",
       "      <td>Copy writing nasc  NUANSA ALAM SETIABUDHI CLOV...</td>\n",
       "      <td>2</td>\n",
       "      <td>60</td>\n",
       "      <td>60</td>\n",
       "      <td>499000000</td>\n",
       "    </tr>\n",
       "    <tr>\n",
       "      <th>4</th>\n",
       "      <td>4</td>\n",
       "      <td>Rumah Strategis Siap Huni di dekat Tol Cileuny...</td>\n",
       "      <td>Cibiru Hilir, Bandung</td>\n",
       "      <td>Hunian Nyaman di Cibiru, Cileunyi, Bandung Tim...</td>\n",
       "      <td>2</td>\n",
       "      <td>90</td>\n",
       "      <td>114</td>\n",
       "      <td>397500000</td>\n",
       "    </tr>\n",
       "  </tbody>\n",
       "</table>\n",
       "</div>"
      ],
      "text/plain": [
       "   Unnamed: 0                                              judul  \\\n",
       "0           0                      Promo Rumah Mewah Akhir Tahun   \n",
       "1           1  Rumah modern Readystock di bandung raya cimahi...   \n",
       "2           2  Dijual rumah 300 jutaan jalan lebar dekat Ikea...   \n",
       "3           3  Dijual PROMO rumah 2 lantai di sayap Setiabudi...   \n",
       "4           4  Rumah Strategis Siap Huni di dekat Tol Cileuny...   \n",
       "\n",
       "                   alamat                                          deskripsi  \\\n",
       "0       Antapani, Bandung  Promo akhir tahun !! Hanya 500 jt-an + FREE SH...   \n",
       "1  Bandung Wetan, Bandung  Rumah Baru modern 2 LT di Sayap Kota Cimahi de...   \n",
       "2     Padalarang, Bandung  *Jadilah konsumen CERDAS !* *Tips singkat sebe...   \n",
       "3                 Bandung  Copy writing nasc  NUANSA ALAM SETIABUDHI CLOV...   \n",
       "4   Cibiru Hilir, Bandung  Hunian Nyaman di Cibiru, Cileunyi, Bandung Tim...   \n",
       "\n",
       "   kamar  bangunan  lahan      harga  \n",
       "0      3        75     84  590000000  \n",
       "1      3        70     71  700000000  \n",
       "2      2        36     72  386000000  \n",
       "3      2        60     60  499000000  \n",
       "4      2        90    114  397500000  "
      ]
     },
     "execution_count": 206,
     "metadata": {},
     "output_type": "execute_result"
    }
   ],
   "source": [
    "data = pd.read_excel(\"data_rumah_bandung.xlsx\")\n",
    "data.head()"
   ]
  },
  {
   "cell_type": "code",
   "execution_count": 207,
   "metadata": {},
   "outputs": [
    {
     "data": {
      "text/html": [
       "<div>\n",
       "<style scoped>\n",
       "    .dataframe tbody tr th:only-of-type {\n",
       "        vertical-align: middle;\n",
       "    }\n",
       "\n",
       "    .dataframe tbody tr th {\n",
       "        vertical-align: top;\n",
       "    }\n",
       "\n",
       "    .dataframe thead th {\n",
       "        text-align: right;\n",
       "    }\n",
       "</style>\n",
       "<table border=\"1\" class=\"dataframe\">\n",
       "  <thead>\n",
       "    <tr style=\"text-align: right;\">\n",
       "      <th></th>\n",
       "      <th>Unnamed: 0</th>\n",
       "      <th>kamar</th>\n",
       "      <th>bangunan</th>\n",
       "      <th>lahan</th>\n",
       "      <th>harga</th>\n",
       "    </tr>\n",
       "  </thead>\n",
       "  <tbody>\n",
       "    <tr>\n",
       "      <th>count</th>\n",
       "      <td>1470.000000</td>\n",
       "      <td>1470.000000</td>\n",
       "      <td>1470.000000</td>\n",
       "      <td>1470.000000</td>\n",
       "      <td>1.470000e+03</td>\n",
       "    </tr>\n",
       "    <tr>\n",
       "      <th>mean</th>\n",
       "      <td>734.500000</td>\n",
       "      <td>3.646259</td>\n",
       "      <td>177.489116</td>\n",
       "      <td>210.235374</td>\n",
       "      <td>2.581586e+09</td>\n",
       "    </tr>\n",
       "    <tr>\n",
       "      <th>std</th>\n",
       "      <td>424.496761</td>\n",
       "      <td>2.535528</td>\n",
       "      <td>176.726326</td>\n",
       "      <td>500.109095</td>\n",
       "      <td>4.358051e+09</td>\n",
       "    </tr>\n",
       "    <tr>\n",
       "      <th>min</th>\n",
       "      <td>0.000000</td>\n",
       "      <td>0.000000</td>\n",
       "      <td>0.000000</td>\n",
       "      <td>0.000000</td>\n",
       "      <td>6.500000e+07</td>\n",
       "    </tr>\n",
       "    <tr>\n",
       "      <th>25%</th>\n",
       "      <td>367.250000</td>\n",
       "      <td>2.000000</td>\n",
       "      <td>65.000000</td>\n",
       "      <td>80.000000</td>\n",
       "      <td>6.750000e+08</td>\n",
       "    </tr>\n",
       "    <tr>\n",
       "      <th>50%</th>\n",
       "      <td>734.500000</td>\n",
       "      <td>3.000000</td>\n",
       "      <td>122.500000</td>\n",
       "      <td>120.000000</td>\n",
       "      <td>1.370000e+09</td>\n",
       "    </tr>\n",
       "    <tr>\n",
       "      <th>75%</th>\n",
       "      <td>1101.750000</td>\n",
       "      <td>4.000000</td>\n",
       "      <td>230.000000</td>\n",
       "      <td>210.000000</td>\n",
       "      <td>3.000000e+09</td>\n",
       "    </tr>\n",
       "    <tr>\n",
       "      <th>max</th>\n",
       "      <td>1469.000000</td>\n",
       "      <td>47.000000</td>\n",
       "      <td>1850.000000</td>\n",
       "      <td>15000.000000</td>\n",
       "      <td>5.700000e+10</td>\n",
       "    </tr>\n",
       "  </tbody>\n",
       "</table>\n",
       "</div>"
      ],
      "text/plain": [
       "        Unnamed: 0        kamar     bangunan         lahan         harga\n",
       "count  1470.000000  1470.000000  1470.000000   1470.000000  1.470000e+03\n",
       "mean    734.500000     3.646259   177.489116    210.235374  2.581586e+09\n",
       "std     424.496761     2.535528   176.726326    500.109095  4.358051e+09\n",
       "min       0.000000     0.000000     0.000000      0.000000  6.500000e+07\n",
       "25%     367.250000     2.000000    65.000000     80.000000  6.750000e+08\n",
       "50%     734.500000     3.000000   122.500000    120.000000  1.370000e+09\n",
       "75%    1101.750000     4.000000   230.000000    210.000000  3.000000e+09\n",
       "max    1469.000000    47.000000  1850.000000  15000.000000  5.700000e+10"
      ]
     },
     "execution_count": 207,
     "metadata": {},
     "output_type": "execute_result"
    }
   ],
   "source": [
    "data.describe()"
   ]
  },
  {
   "cell_type": "code",
   "execution_count": 208,
   "metadata": {},
   "outputs": [
    {
     "name": "stdout",
     "output_type": "stream",
     "text": [
      "<class 'pandas.core.frame.DataFrame'>\n",
      "RangeIndex: 1470 entries, 0 to 1469\n",
      "Data columns (total 8 columns):\n",
      " #   Column      Non-Null Count  Dtype \n",
      "---  ------      --------------  ----- \n",
      " 0   Unnamed: 0  1470 non-null   int64 \n",
      " 1   judul       1470 non-null   object\n",
      " 2   alamat      1470 non-null   object\n",
      " 3   deskripsi   1468 non-null   object\n",
      " 4   kamar       1470 non-null   int64 \n",
      " 5   bangunan    1470 non-null   int64 \n",
      " 6   lahan       1470 non-null   int64 \n",
      " 7   harga       1470 non-null   int64 \n",
      "dtypes: int64(5), object(3)\n",
      "memory usage: 92.0+ KB\n"
     ]
    }
   ],
   "source": [
    "data.info()"
   ]
  },
  {
   "attachments": {},
   "cell_type": "markdown",
   "metadata": {},
   "source": [
    "TRAIN DATA "
   ]
  },
  {
   "cell_type": "code",
   "execution_count": 209,
   "metadata": {},
   "outputs": [
    {
     "name": "stdout",
     "output_type": "stream",
     "text": [
      "[3, 75, 84]\n",
      "[3, 70, 71]\n",
      "[2, 36, 72]\n",
      "[2, 60, 60]\n",
      "[2, 90, 114]\n",
      "[2, 60, 60]\n",
      "[2, 48, 80]\n",
      "[2, 36, 60]\n",
      "[7, 200, 620]\n",
      "[3, 75, 84]\n"
     ]
    }
   ],
   "source": [
    "# jml_lantai\truangan\tluas (m2)\tharga\n",
    "data_features = [[kamar, bangunan, lahan] for kamar, bangunan, lahan in zip(data['kamar'], data['bangunan'], data['lahan'])]\n",
    "for x in range(10): \n",
    "    print(data_features[x])"
   ]
  },
  {
   "cell_type": "code",
   "execution_count": 210,
   "metadata": {},
   "outputs": [
    {
     "data": {
      "text/plain": [
       "list"
      ]
     },
     "execution_count": 210,
     "metadata": {},
     "output_type": "execute_result"
    }
   ],
   "source": [
    "type(data_features)"
   ]
  },
  {
   "cell_type": "code",
   "execution_count": 211,
   "metadata": {},
   "outputs": [],
   "source": [
    "price = data.harga"
   ]
  },
  {
   "attachments": {},
   "cell_type": "markdown",
   "metadata": {},
   "source": [
    "CONVERT TO PANDAS DATA FRAME"
   ]
  },
  {
   "cell_type": "code",
   "execution_count": 212,
   "metadata": {},
   "outputs": [
    {
     "name": "stdout",
     "output_type": "stream",
     "text": [
      "data features :  <class 'numpy.ndarray'>\n",
      "harga :  <class 'numpy.ndarray'>\n"
     ]
    }
   ],
   "source": [
    "data_features = np.array(data_features)\n",
    "price = np.array(price)\n",
    "print(\"data features : \", type(data_features))\n",
    "print(\"harga : \", type(price))"
   ]
  },
  {
   "attachments": {},
   "cell_type": "markdown",
   "metadata": {},
   "source": [
    "SPLIT DATA"
   ]
  },
  {
   "cell_type": "code",
   "execution_count": 213,
   "metadata": {},
   "outputs": [],
   "source": [
    "# data_features,price = shuffle(data_features,price, random_state=1)"
   ]
  },
  {
   "cell_type": "code",
   "execution_count": 214,
   "metadata": {},
   "outputs": [],
   "source": [
    "from sklearn.model_selection import train_test_split\n",
    "X_train, X_test, Y_train, Y_test = train_test_split(data_features, price, test_size=0.4, random_state=1)\n"
   ]
  },
  {
   "cell_type": "code",
   "execution_count": 215,
   "metadata": {},
   "outputs": [
    {
     "name": "stdout",
     "output_type": "stream",
     "text": [
      "X train shape :  (882, 3)\n",
      "Y train shape:  (882,)\n",
      "X test shape:  (588, 3)\n",
      "Y test shape:  (588,)\n"
     ]
    }
   ],
   "source": [
    "print(\"X train shape : \", X_train.shape)\n",
    "print(\"Y train shape: \", Y_train.shape)\n",
    "print(\"X test shape: \", X_test.shape)\n",
    "print(\"Y test shape: \",Y_test.shape)"
   ]
  },
  {
   "cell_type": "code",
   "execution_count": 216,
   "metadata": {},
   "outputs": [],
   "source": [
    "# X_test"
   ]
  },
  {
   "cell_type": "code",
   "execution_count": 217,
   "metadata": {},
   "outputs": [
    {
     "data": {
      "text/plain": [
       "array([ 2700000000,  1150000000,  2850000000,  4500000000,   725000000,\n",
       "        2750000000,  3500000000,   180000000,   675000000,  1500000000,\n",
       "        1725000000,   750000000,  1450000000,   330000000,  1850000000,\n",
       "        3500000000,  1500000000,  3200000000,  2200000000,  1250000000,\n",
       "        1850000000,  2750000000, 40000000000,  1700000000,   600000000,\n",
       "        1600000000,   799000000,  1980000000, 13500000000,   650000000,\n",
       "        3500000000,   588500000,   364650000,   750000000,  1150000000,\n",
       "        1200000000,   160000000,   425000000,  2300000000,  6000000000,\n",
       "        8700000000,  6750000000,  1169900000,   150000000,  2400000000,\n",
       "         490000000,   200000000,  1500000000, 14000000000,  3999999999,\n",
       "        4000000000,  3841200000,  1200000000,   140000000,   728099000,\n",
       "        4300000000,  2400000000,  1723100000,  1709000000, 11000000000,\n",
       "         497000000,   600000000,  6500000000,  2650000000,   325000000,\n",
       "        2600000000,   500000000,   385000000,   780000000,   550000000,\n",
       "        6800000000,   567000000,  3500000000,  1200000000,   975000000,\n",
       "         525000000,  1135000000,  2420000000,   790000000,   900000000,\n",
       "         360000000,   800000000,   135000000,  2750000000,  6000000000,\n",
       "         730000000,  1700000000,  3025000000,   565000000,  3950000000,\n",
       "         731000000,  3200000000,   625000000,   625000000,  3325000000,\n",
       "         497000000,   940000000,   365000000,  1400000000,  1135750000,\n",
       "       38000000000,  1300000000,  1000000000,   115000000,  1100000000,\n",
       "        2950000000,   850000000,   227000000,   331500000,   850000000,\n",
       "         533000000,  3250000000,  1950000000,  2390000000,   425000000,\n",
       "        2500000000,   175002000,  2800000000,   499000000,   450000000,\n",
       "         175000000,  1750000000,   475000000,  1100000000,  2200000000,\n",
       "        2300000000,  1850000000,  5000000000,  1400000000,  1300000000,\n",
       "         497000000,  3200000000,  3700000000,  7000000000,   155025000,\n",
       "        4300000000,  1250000000,  1800000000,   991000000,   599000000,\n",
       "        2494000000,  2700000000, 43000000000,   477000000,   800000000,\n",
       "        2600000000,  2300000000, 43000000000,   199999999,   537000000,\n",
       "         925000000,  2100000000,  1072000000,  4300000000,   297000000,\n",
       "        1300000000,   900000000,   275000000,   950000000,   275000000,\n",
       "        3200000000,  3000000000,  6300000000,  1350000000,  6800000000,\n",
       "        2750000000,   850000000,  1250000000,  1375000000,  5500000000,\n",
       "         950000000,   150000000,  1450000000,  2200000000,   850000000,\n",
       "        3450000000,  1523200000,  1000000000,  1300000000,   205000000,\n",
       "         815000000,  2350000000,   550000000,  1900000000,   600000000,\n",
       "        2500000000,  1850000000,  1500000000,  1088000000,  2200000000,\n",
       "        1100000000,   650000000,  3000000000,   750000000,  3200000000,\n",
       "        2200000000,  1125000000,   701222193,   497000000,   499000000,\n",
       "         585000000,  3000000000,  3000000000,   975000000,   475000000,\n",
       "        8100000000,  1350000000,  1225000000,  5000000000,  3250000000,\n",
       "        3500000000,  3200000000,   440000000,   297000000,   600000000,\n",
       "         860250000,  1060800000,   436000000,   260000000,  1800000000,\n",
       "         850000000,   615000000,  5750000000,   150000000,   588000000,\n",
       "        3250000000,  1600000000,  5500000000,   175100000,  3210000000,\n",
       "        1800000000,   331500000,  1400000000,  1200000000,  1950000000,\n",
       "        1800000000,  1770000110,  1950000000,   650000000,  1250000000,\n",
       "         100000000,  1500000000,  4600000000,  2300000000, 32000000000,\n",
       "         225000000,  2600000000,   900000000,   850000000,  9500000000,\n",
       "        1102000000,  3800000000,  1100000000, 21000000000,   200000000,\n",
       "        3000000000,  2300000000,  2700000000,   520000000,  4750000000,\n",
       "        3495000000,   572000000,   575000000,  1550000000,  7000000000,\n",
       "        1600000000,  3300000000,  1100000000,  1444000000,   595000000,\n",
       "         300000000,  3300000000,  2000000000,   790000000,   475000000,\n",
       "        3200000000,   480000000,  3600000000,  1250000000,  3500000000,\n",
       "        3300000000,  1200000000,   850000000,  7500000000,  3500000000,\n",
       "        4900000000,   935000000,   975000000,  6250000000,   825000000,\n",
       "        3750000000,  3100000000,  2550000000,  1750000000,   710000000,\n",
       "         283000000,  7500000000,  1518000000,   375000000,  1500000000,\n",
       "         630000000,   750000000,  2550000000,  6000000000,   165000000,\n",
       "       29000000000,  4900000000,   900000000,  2500000000,  1180000000,\n",
       "        4300000000,  1850000000,  3425000000,  2375000000,   402000000,\n",
       "        3600000000,  1150000000,   475000000,   685000000,  4100000000,\n",
       "        3125000000,   685000000,  1163000000,   799000000,  3000000000,\n",
       "        5500000000,  1250000000,   365000000,   950000000,   650000000,\n",
       "        1200000000,   225000000,   477500000,   700000000,  2450000000,\n",
       "         990000000,  6000000000,   525000000,  1600000000,   696000000,\n",
       "         175000000,  3500000000,  2650000000,   487000000,  1500000000,\n",
       "        2200000000,  3150000000,  3900000000,  1750000000,  1300000000,\n",
       "        1500000000,   595000000,   190000000,  1400000000,  3200000000,\n",
       "        3500000000,   600000000,  1850000000,  1200000000,   925000000,\n",
       "        1275000000,  1075000000,   857000000,  1500000000, 16000000000,\n",
       "        1300000000,  2700000000,   453000000,  2800000000,  1750000000,\n",
       "        3300000000,  1800000000,  1200000000,   448000000,   525000000,\n",
       "        1752000000,   954000000,  1050000000, 15000000000,   650000000,\n",
       "         400000000,  1800000000,  3600000000,  1600000000,   800000000,\n",
       "         575000000,   586750000,   175000000,  1000000000,  3500000000,\n",
       "        1300000000,  3200000000,  2900000000, 22500000000,   825500000,\n",
       "         775000000,  1850000000,   750000000,  1300000000,  3800000000,\n",
       "         500000000,  2500000000,  1900000000,  3600000000,  2900000000,\n",
       "        2800000000,  7000000000,   371990000,  4500000000,   710000000,\n",
       "        1100000000,   600000000,  1135000000,   750000000,  7500000000,\n",
       "         660000000,   640000000,   820000000, 38000000000,   625000000,\n",
       "         710000000,  3500000000,  1000000000,   925000000,  1350000000,\n",
       "         195000000,   200000000,   900000000,   800000000,   475000000,\n",
       "         750000000,  8800000000,  1500000000,   398000000,  3100000000,\n",
       "        1350000000,  1100000000,  6300000000,   300000000,   500000000,\n",
       "        2300000000,   580000000,  4500000000,   850000000, 13500000000,\n",
       "        2600000000,  4500000000,   650000000,  3051000000,  1850000000,\n",
       "         267000000,  1000000000,  1330000000,  1500000000,   390000000,\n",
       "         765000000,  1200000000,   850000000,  1000000000,  2000000000,\n",
       "         850000000, 12500000000,  2100000000,  1500000000,   820000000,\n",
       "        1750000000,  3025000000,  3400000000,   550000000,   650000000,\n",
       "        2800000000,   650000000,  3100000000,  2700000000,  4200000000,\n",
       "         547000000,  2650000000,  1550000000,  1550000000,   220000000,\n",
       "        3300000000, 13500000000,  1500000000,   695000000,  1500000000,\n",
       "        1050000000,   750000000,   225000000,  9000000000,  3300000000,\n",
       "         176000000,   657000000,  3500000000,  1850000000,   675000000,\n",
       "        1202400000,  2400000000,  1550000000,   150000000,   225000000,\n",
       "       14000000000,  1300000000,  1200000000,  2200000000,  6000000000,\n",
       "         575000000,  4800000000,  1384500000,  2000000000,   549000000,\n",
       "       33000000000,   532000000,  1399000000,   150000000,   610000000,\n",
       "         350000000, 10900000000,   380000000, 15000000000,  3100000000,\n",
       "        3900000000,   424990000,  1850000000,   430000000, 19500000000,\n",
       "         549500000,   650000000,   750000000,   699000000,  2350000000,\n",
       "        1700000000,  3250000000,  1380000000,  3600000000,   899000000,\n",
       "        1300000000,   745000000,  3300000000,  4600000000,  2300000000,\n",
       "         580000000,   517000000,   600000000,   250000000,   650000000,\n",
       "         800000000,  7000000000,   145000000,  1100000000,  4250000000,\n",
       "         678000030,  3800000000,  4200000000,   700000000,   750000000,\n",
       "        1600000000,   850000000,  1250000000,   170000000,  1800000000,\n",
       "        5000000000,   500000000,  1069000000,   965000000,   245000000,\n",
       "        2500000000,   375000000,  1600000000,   950000000,  2700000000,\n",
       "         800000000,   289000000,  1450000000,   413000000,   549000000,\n",
       "        3250000000,   250000000,  2200000000,  3400000000,  1400000000,\n",
       "        3300000000,  2400000000,   737200000,  2100000000,   395000000,\n",
       "        1689000000,   800000000,  1257000000], dtype=int64)"
      ]
     },
     "execution_count": 217,
     "metadata": {},
     "output_type": "execute_result"
    }
   ],
   "source": [
    "Y_test"
   ]
  },
  {
   "cell_type": "code",
   "execution_count": 218,
   "metadata": {},
   "outputs": [
    {
     "data": {
      "text/html": [
       "<style>#sk-container-id-19 {color: black;background-color: white;}#sk-container-id-19 pre{padding: 0;}#sk-container-id-19 div.sk-toggleable {background-color: white;}#sk-container-id-19 label.sk-toggleable__label {cursor: pointer;display: block;width: 100%;margin-bottom: 0;padding: 0.3em;box-sizing: border-box;text-align: center;}#sk-container-id-19 label.sk-toggleable__label-arrow:before {content: \"▸\";float: left;margin-right: 0.25em;color: #696969;}#sk-container-id-19 label.sk-toggleable__label-arrow:hover:before {color: black;}#sk-container-id-19 div.sk-estimator:hover label.sk-toggleable__label-arrow:before {color: black;}#sk-container-id-19 div.sk-toggleable__content {max-height: 0;max-width: 0;overflow: hidden;text-align: left;background-color: #f0f8ff;}#sk-container-id-19 div.sk-toggleable__content pre {margin: 0.2em;color: black;border-radius: 0.25em;background-color: #f0f8ff;}#sk-container-id-19 input.sk-toggleable__control:checked~div.sk-toggleable__content {max-height: 200px;max-width: 100%;overflow: auto;}#sk-container-id-19 input.sk-toggleable__control:checked~label.sk-toggleable__label-arrow:before {content: \"▾\";}#sk-container-id-19 div.sk-estimator input.sk-toggleable__control:checked~label.sk-toggleable__label {background-color: #d4ebff;}#sk-container-id-19 div.sk-label input.sk-toggleable__control:checked~label.sk-toggleable__label {background-color: #d4ebff;}#sk-container-id-19 input.sk-hidden--visually {border: 0;clip: rect(1px 1px 1px 1px);clip: rect(1px, 1px, 1px, 1px);height: 1px;margin: -1px;overflow: hidden;padding: 0;position: absolute;width: 1px;}#sk-container-id-19 div.sk-estimator {font-family: monospace;background-color: #f0f8ff;border: 1px dotted black;border-radius: 0.25em;box-sizing: border-box;margin-bottom: 0.5em;}#sk-container-id-19 div.sk-estimator:hover {background-color: #d4ebff;}#sk-container-id-19 div.sk-parallel-item::after {content: \"\";width: 100%;border-bottom: 1px solid gray;flex-grow: 1;}#sk-container-id-19 div.sk-label:hover label.sk-toggleable__label {background-color: #d4ebff;}#sk-container-id-19 div.sk-serial::before {content: \"\";position: absolute;border-left: 1px solid gray;box-sizing: border-box;top: 0;bottom: 0;left: 50%;z-index: 0;}#sk-container-id-19 div.sk-serial {display: flex;flex-direction: column;align-items: center;background-color: white;padding-right: 0.2em;padding-left: 0.2em;position: relative;}#sk-container-id-19 div.sk-item {position: relative;z-index: 1;}#sk-container-id-19 div.sk-parallel {display: flex;align-items: stretch;justify-content: center;background-color: white;position: relative;}#sk-container-id-19 div.sk-item::before, #sk-container-id-19 div.sk-parallel-item::before {content: \"\";position: absolute;border-left: 1px solid gray;box-sizing: border-box;top: 0;bottom: 0;left: 50%;z-index: -1;}#sk-container-id-19 div.sk-parallel-item {display: flex;flex-direction: column;z-index: 1;position: relative;background-color: white;}#sk-container-id-19 div.sk-parallel-item:first-child::after {align-self: flex-end;width: 50%;}#sk-container-id-19 div.sk-parallel-item:last-child::after {align-self: flex-start;width: 50%;}#sk-container-id-19 div.sk-parallel-item:only-child::after {width: 0;}#sk-container-id-19 div.sk-dashed-wrapped {border: 1px dashed gray;margin: 0 0.4em 0.5em 0.4em;box-sizing: border-box;padding-bottom: 0.4em;background-color: white;}#sk-container-id-19 div.sk-label label {font-family: monospace;font-weight: bold;display: inline-block;line-height: 1.2em;}#sk-container-id-19 div.sk-label-container {text-align: center;}#sk-container-id-19 div.sk-container {/* jupyter's `normalize.less` sets `[hidden] { display: none; }` but bootstrap.min.css set `[hidden] { display: none !important; }` so we also need the `!important` here to be able to override the default hidden behavior on the sphinx rendered scikit-learn.org. See: https://github.com/scikit-learn/scikit-learn/issues/21755 */display: inline-block !important;position: relative;}#sk-container-id-19 div.sk-text-repr-fallback {display: none;}</style><div id=\"sk-container-id-19\" class=\"sk-top-container\"><div class=\"sk-text-repr-fallback\"><pre>SVR(C=100, gamma=0.1, kernel=&#x27;linear&#x27;)</pre><b>In a Jupyter environment, please rerun this cell to show the HTML representation or trust the notebook. <br />On GitHub, the HTML representation is unable to render, please try loading this page with nbviewer.org.</b></div><div class=\"sk-container\" hidden><div class=\"sk-item\"><div class=\"sk-estimator sk-toggleable\"><input class=\"sk-toggleable__control sk-hidden--visually\" id=\"sk-estimator-id-33\" type=\"checkbox\" checked><label for=\"sk-estimator-id-33\" class=\"sk-toggleable__label sk-toggleable__label-arrow\">SVR</label><div class=\"sk-toggleable__content\"><pre>SVR(C=100, gamma=0.1, kernel=&#x27;linear&#x27;)</pre></div></div></div></div></div>"
      ],
      "text/plain": [
       "SVR(C=100, gamma=0.1, kernel='linear')"
      ]
     },
     "execution_count": 218,
     "metadata": {},
     "output_type": "execute_result"
    }
   ],
   "source": [
    "from sklearn.svm import SVR\n",
    "SVR_model = SVR(kernel='linear',C=100, gamma=0.1)\n",
    "SVR_model.fit(X_train, Y_train)"
   ]
  },
  {
   "cell_type": "code",
   "execution_count": 219,
   "metadata": {},
   "outputs": [],
   "source": [
    "y_pred = SVR_model.predict(X_test)"
   ]
  },
  {
   "attachments": {},
   "cell_type": "markdown",
   "metadata": {},
   "source": [
    "PERFORMANCE"
   ]
  },
  {
   "cell_type": "code",
   "execution_count": 220,
   "metadata": {},
   "outputs": [
    {
     "name": "stdout",
     "output_type": "stream",
     "text": [
      "y pred  0  adalah :  2760090498\n",
      "y pred  1  adalah :  1683626781\n",
      "y pred  2  adalah :  1465671543\n",
      "y pred  3  adalah :  2859818235\n",
      "y pred  4  adalah :  864416174\n",
      "y pred  5  adalah :  1362580723\n",
      "y pred  6  adalah :  1543645940\n",
      "y pred  7  adalah :  692710547\n",
      "y pred  8  adalah :  1061994155\n",
      "y pred  9  adalah :  1871930477\n",
      "y pred  10  adalah :  1383011064\n",
      "y pred  11  adalah :  844666889\n",
      "y pred  12  adalah :  1376424491\n",
      "y pred  13  adalah :  674220276\n",
      "y pred  14  adalah :  1102327818\n",
      "y pred  15  adalah :  2572553633\n",
      "y pred  16  adalah :  1977698579\n",
      "y pred  17  adalah :  1970992336\n",
      "y pred  18  adalah :  2345587854\n",
      "y pred  19  adalah :  1498771944\n",
      "y pred  20  adalah :  1465719412\n",
      "y pred  21  adalah :  2176693432\n",
      "y pred  22  adalah :  5928909319\n",
      "y pred  23  adalah :  2093478177\n",
      "y pred  24  adalah :  1221337796\n"
     ]
    }
   ],
   "source": [
    "import math\n",
    "for x in range(25):\n",
    "    print(\"y pred \", x , \" adalah : \", math.floor(y_pred[x]))"
   ]
  },
  {
   "cell_type": "code",
   "execution_count": 221,
   "metadata": {},
   "outputs": [
    {
     "name": "stdout",
     "output_type": "stream",
     "text": [
      "y test  0  adalah :  2700000000\n",
      "y test  1  adalah :  1150000000\n",
      "y test  2  adalah :  2850000000\n",
      "y test  3  adalah :  4500000000\n",
      "y test  4  adalah :  725000000\n",
      "y test  5  adalah :  2750000000\n",
      "y test  6  adalah :  3500000000\n",
      "y test  7  adalah :  180000000\n",
      "y test  8  adalah :  675000000\n",
      "y test  9  adalah :  1500000000\n",
      "y test  10  adalah :  1725000000\n",
      "y test  11  adalah :  750000000\n",
      "y test  12  adalah :  1450000000\n",
      "y test  13  adalah :  330000000\n",
      "y test  14  adalah :  1850000000\n",
      "y test  15  adalah :  3500000000\n",
      "y test  16  adalah :  1500000000\n",
      "y test  17  adalah :  3200000000\n",
      "y test  18  adalah :  2200000000\n",
      "y test  19  adalah :  1250000000\n",
      "y test  20  adalah :  1850000000\n",
      "y test  21  adalah :  2750000000\n",
      "y test  22  adalah :  40000000000\n",
      "y test  23  adalah :  1700000000\n",
      "y test  24  adalah :  600000000\n"
     ]
    }
   ],
   "source": [
    "for x in range(25):\n",
    "    print(\"y test \", x , \" adalah : \", Y_test[x])"
   ]
  },
  {
   "cell_type": "code",
   "execution_count": 222,
   "metadata": {},
   "outputs": [
    {
     "name": "stdout",
     "output_type": "stream",
     "text": [
      "mae score :  1278609551\n",
      "mse score :  16096526404689424384\n",
      "median absolute error :  429240985.59\n",
      "r2 score :  0.319129908942994\n"
     ]
    }
   ],
   "source": [
    "# mae and mse score\n",
    "\n",
    "print(\"mae score : \",math.floor(mae(Y_test, y_pred)))\n",
    "print(\"mse score : \", math.floor(mse(Y_test, y_pred)))\n",
    "print(\"median absolute error : \",round(median_absolute_error(Y_test, y_pred),2))\n",
    "print(\"r2 score : \",r2_score(Y_test, y_pred))\n",
    "# test = mae(Y_test, y_pred)\n",
    "# type(test)"
   ]
  },
  {
   "cell_type": "code",
   "execution_count": 223,
   "metadata": {},
   "outputs": [
    {
     "name": "stdout",
     "output_type": "stream",
     "text": [
      "Fitting 5 folds for each of 32 candidates, totalling 160 fits\n"
     ]
    },
    {
     "data": {
      "text/html": [
       "<style>#sk-container-id-20 {color: black;background-color: white;}#sk-container-id-20 pre{padding: 0;}#sk-container-id-20 div.sk-toggleable {background-color: white;}#sk-container-id-20 label.sk-toggleable__label {cursor: pointer;display: block;width: 100%;margin-bottom: 0;padding: 0.3em;box-sizing: border-box;text-align: center;}#sk-container-id-20 label.sk-toggleable__label-arrow:before {content: \"▸\";float: left;margin-right: 0.25em;color: #696969;}#sk-container-id-20 label.sk-toggleable__label-arrow:hover:before {color: black;}#sk-container-id-20 div.sk-estimator:hover label.sk-toggleable__label-arrow:before {color: black;}#sk-container-id-20 div.sk-toggleable__content {max-height: 0;max-width: 0;overflow: hidden;text-align: left;background-color: #f0f8ff;}#sk-container-id-20 div.sk-toggleable__content pre {margin: 0.2em;color: black;border-radius: 0.25em;background-color: #f0f8ff;}#sk-container-id-20 input.sk-toggleable__control:checked~div.sk-toggleable__content {max-height: 200px;max-width: 100%;overflow: auto;}#sk-container-id-20 input.sk-toggleable__control:checked~label.sk-toggleable__label-arrow:before {content: \"▾\";}#sk-container-id-20 div.sk-estimator input.sk-toggleable__control:checked~label.sk-toggleable__label {background-color: #d4ebff;}#sk-container-id-20 div.sk-label input.sk-toggleable__control:checked~label.sk-toggleable__label {background-color: #d4ebff;}#sk-container-id-20 input.sk-hidden--visually {border: 0;clip: rect(1px 1px 1px 1px);clip: rect(1px, 1px, 1px, 1px);height: 1px;margin: -1px;overflow: hidden;padding: 0;position: absolute;width: 1px;}#sk-container-id-20 div.sk-estimator {font-family: monospace;background-color: #f0f8ff;border: 1px dotted black;border-radius: 0.25em;box-sizing: border-box;margin-bottom: 0.5em;}#sk-container-id-20 div.sk-estimator:hover {background-color: #d4ebff;}#sk-container-id-20 div.sk-parallel-item::after {content: \"\";width: 100%;border-bottom: 1px solid gray;flex-grow: 1;}#sk-container-id-20 div.sk-label:hover label.sk-toggleable__label {background-color: #d4ebff;}#sk-container-id-20 div.sk-serial::before {content: \"\";position: absolute;border-left: 1px solid gray;box-sizing: border-box;top: 0;bottom: 0;left: 50%;z-index: 0;}#sk-container-id-20 div.sk-serial {display: flex;flex-direction: column;align-items: center;background-color: white;padding-right: 0.2em;padding-left: 0.2em;position: relative;}#sk-container-id-20 div.sk-item {position: relative;z-index: 1;}#sk-container-id-20 div.sk-parallel {display: flex;align-items: stretch;justify-content: center;background-color: white;position: relative;}#sk-container-id-20 div.sk-item::before, #sk-container-id-20 div.sk-parallel-item::before {content: \"\";position: absolute;border-left: 1px solid gray;box-sizing: border-box;top: 0;bottom: 0;left: 50%;z-index: -1;}#sk-container-id-20 div.sk-parallel-item {display: flex;flex-direction: column;z-index: 1;position: relative;background-color: white;}#sk-container-id-20 div.sk-parallel-item:first-child::after {align-self: flex-end;width: 50%;}#sk-container-id-20 div.sk-parallel-item:last-child::after {align-self: flex-start;width: 50%;}#sk-container-id-20 div.sk-parallel-item:only-child::after {width: 0;}#sk-container-id-20 div.sk-dashed-wrapped {border: 1px dashed gray;margin: 0 0.4em 0.5em 0.4em;box-sizing: border-box;padding-bottom: 0.4em;background-color: white;}#sk-container-id-20 div.sk-label label {font-family: monospace;font-weight: bold;display: inline-block;line-height: 1.2em;}#sk-container-id-20 div.sk-label-container {text-align: center;}#sk-container-id-20 div.sk-container {/* jupyter's `normalize.less` sets `[hidden] { display: none; }` but bootstrap.min.css set `[hidden] { display: none !important; }` so we also need the `!important` here to be able to override the default hidden behavior on the sphinx rendered scikit-learn.org. See: https://github.com/scikit-learn/scikit-learn/issues/21755 */display: inline-block !important;position: relative;}#sk-container-id-20 div.sk-text-repr-fallback {display: none;}</style><div id=\"sk-container-id-20\" class=\"sk-top-container\"><div class=\"sk-text-repr-fallback\"><pre>GridSearchCV(cv=5, estimator=SVR(), n_jobs=6,\n",
       "             param_grid={&#x27;C&#x27;: [0.1, 1, 10, 100],\n",
       "                         &#x27;gamma&#x27;: [0.1, 0.01, 0.001, 0.0001],\n",
       "                         &#x27;kernel&#x27;: [&#x27;rbf&#x27;, &#x27;linear&#x27;]},\n",
       "             scoring=&#x27;neg_mean_squared_error&#x27;, verbose=1)</pre><b>In a Jupyter environment, please rerun this cell to show the HTML representation or trust the notebook. <br />On GitHub, the HTML representation is unable to render, please try loading this page with nbviewer.org.</b></div><div class=\"sk-container\" hidden><div class=\"sk-item sk-dashed-wrapped\"><div class=\"sk-label-container\"><div class=\"sk-label sk-toggleable\"><input class=\"sk-toggleable__control sk-hidden--visually\" id=\"sk-estimator-id-34\" type=\"checkbox\" ><label for=\"sk-estimator-id-34\" class=\"sk-toggleable__label sk-toggleable__label-arrow\">GridSearchCV</label><div class=\"sk-toggleable__content\"><pre>GridSearchCV(cv=5, estimator=SVR(), n_jobs=6,\n",
       "             param_grid={&#x27;C&#x27;: [0.1, 1, 10, 100],\n",
       "                         &#x27;gamma&#x27;: [0.1, 0.01, 0.001, 0.0001],\n",
       "                         &#x27;kernel&#x27;: [&#x27;rbf&#x27;, &#x27;linear&#x27;]},\n",
       "             scoring=&#x27;neg_mean_squared_error&#x27;, verbose=1)</pre></div></div></div><div class=\"sk-parallel\"><div class=\"sk-parallel-item\"><div class=\"sk-item\"><div class=\"sk-label-container\"><div class=\"sk-label sk-toggleable\"><input class=\"sk-toggleable__control sk-hidden--visually\" id=\"sk-estimator-id-35\" type=\"checkbox\" ><label for=\"sk-estimator-id-35\" class=\"sk-toggleable__label sk-toggleable__label-arrow\">estimator: SVR</label><div class=\"sk-toggleable__content\"><pre>SVR()</pre></div></div></div><div class=\"sk-serial\"><div class=\"sk-item\"><div class=\"sk-estimator sk-toggleable\"><input class=\"sk-toggleable__control sk-hidden--visually\" id=\"sk-estimator-id-36\" type=\"checkbox\" ><label for=\"sk-estimator-id-36\" class=\"sk-toggleable__label sk-toggleable__label-arrow\">SVR</label><div class=\"sk-toggleable__content\"><pre>SVR()</pre></div></div></div></div></div></div></div></div></div></div>"
      ],
      "text/plain": [
       "GridSearchCV(cv=5, estimator=SVR(), n_jobs=6,\n",
       "             param_grid={'C': [0.1, 1, 10, 100],\n",
       "                         'gamma': [0.1, 0.01, 0.001, 0.0001],\n",
       "                         'kernel': ['rbf', 'linear']},\n",
       "             scoring='neg_mean_squared_error', verbose=1)"
      ]
     },
     "execution_count": 223,
     "metadata": {},
     "output_type": "execute_result"
    }
   ],
   "source": [
    "from sklearn.model_selection import GridSearchCV\n",
    "svr = SVR()\n",
    "paramters = {'C': [0.1, 1, 10, 100], 'gamma': [0.1, 0.01, 0.001, 0.0001], 'kernel': ['rbf', 'linear']}\n",
    "grid_search = GridSearchCV(svr, param_grid=paramters, n_jobs=6, cv=5, scoring='neg_mean_squared_error', verbose=1)\n",
    "grid_search.fit(X_train, Y_train)"
   ]
  },
  {
   "cell_type": "code",
   "execution_count": 224,
   "metadata": {},
   "outputs": [
    {
     "name": "stdout",
     "output_type": "stream",
     "text": [
      "best param :  <bound method BaseEstimator.get_params of SVR(C=100, gamma=0.1, kernel='linear')>\n"
     ]
    }
   ],
   "source": [
    "print(\"best param : \", grid_search.best_estimator_.get_params)\n",
    "best_param = grid_search.best_estimator_.get_params\n"
   ]
  },
  {
   "attachments": {},
   "cell_type": "markdown",
   "metadata": {},
   "source": [
    "test input"
   ]
  },
  {
   "cell_type": "code",
   "execution_count": 226,
   "metadata": {},
   "outputs": [],
   "source": [
    "kamar = int(input(\"masukan banyak kamar : \"))\n",
    "bangunan  = float(input(\"masukan luas bangunan  : \"))\n",
    "lahan = int(input(\"masukan luas lahan : \"))"
   ]
  },
  {
   "cell_type": "code",
   "execution_count": 227,
   "metadata": {},
   "outputs": [
    {
     "name": "stdout",
     "output_type": "stream",
     "text": [
      "[[  4. 100. 150.]]\n",
      "1267643561\n"
     ]
    }
   ],
   "source": [
    "data_customer = np.array([[kamar,bangunan, lahan]])\n",
    "print(data_customer)\n",
    "customer_price_pred = math.floor(SVR_model.predict(data_customer))\n",
    "print(customer_price_pred)\n",
    "# 4,170, 132 = 1.5M"
   ]
  },
  {
   "cell_type": "code",
   "execution_count": 236,
   "metadata": {},
   "outputs": [
    {
     "data": {
      "text/plain": [
       "0.319129908942994"
      ]
     },
     "execution_count": 236,
     "metadata": {},
     "output_type": "execute_result"
    }
   ],
   "source": [
    "SVR_model.score(X_test, Y_test)"
   ]
  }
 ],
 "metadata": {
  "kernelspec": {
   "display_name": "Python 3",
   "language": "python",
   "name": "python3"
  },
  "language_info": {
   "codemirror_mode": {
    "name": "ipython",
    "version": 3
   },
   "file_extension": ".py",
   "mimetype": "text/x-python",
   "name": "python",
   "nbconvert_exporter": "python",
   "pygments_lexer": "ipython3",
   "version": "3.11.2"
  },
  "orig_nbformat": 4
 },
 "nbformat": 4,
 "nbformat_minor": 2
}
